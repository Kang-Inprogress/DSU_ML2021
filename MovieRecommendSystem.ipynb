{
  "nbformat": 4,
  "nbformat_minor": 0,
  "metadata": {
    "colab": {
      "name": "MovieRecommendSystem.ipynb",
      "provenance": [],
      "collapsed_sections": [],
      "authorship_tag": "ABX9TyML//IJE2JYeubCAdzXeRWd",
      "include_colab_link": true
    },
    "kernelspec": {
      "name": "python3",
      "display_name": "Python 3"
    },
    "language_info": {
      "name": "python"
    }
  },
  "cells": [
    {
      "cell_type": "markdown",
      "metadata": {
        "id": "view-in-github",
        "colab_type": "text"
      },
      "source": [
        "<a href=\"https://colab.research.google.com/github/Kang-Inprogress/DSU_ML2021/blob/main/MovieRecommendSystem.ipynb\" target=\"_parent\"><img src=\"https://colab.research.google.com/assets/colab-badge.svg\" alt=\"Open In Colab\"/></a>"
      ]
    },
    {
      "cell_type": "markdown",
      "metadata": {
        "id": "mhTcDXQvWlF7"
      },
      "source": [
        "**자카드 계수**\n",
        ": 두 집합이 공유하는 원소 수에 기반한 유사도 (겹치는 원소 수/전체 원소 수)\n",
        "- 데이터가 희박(sparse): 데이터 하나에 존재하는 피처 수가 가능한 피처 수 에 비해 월등하게 적은 경우"
      ]
    },
    {
      "cell_type": "markdown",
      "metadata": {
        "id": "MNZSphdDXX-W"
      },
      "source": [
        "**코사인 유사도**\n",
        ": 두 벡터 사이의 각도를 -1부터 1사이의 값으로 나타내는 척도\n",
        "- 두 벡터가 같은 방향: 1, 완전 반대 방향: -1 \n",
        "  - +1에 가까우면 유사도가 크다, -1에 가까우면 유사도가 매우 적다.\n",
        "\n",
        "단어 빈도를 사용하여 유사도를 측정한다. 하지만 이 단어 빈도의 수는 영향을 주지않을 것이다. 각 벡터간 각도를 구해서 유사도를 측정한다.\n",
        "\n"
      ]
    },
    {
      "cell_type": "markdown",
      "metadata": {
        "id": "RmJucXVYY-MV"
      },
      "source": [
        "**편집 거리**\n",
        ": 다른 문자열로 변환시킬 때 필요한 연산의 수\n",
        "- 연산의 횟수가 많을 수록 거리가 멀다고 정의한다\n",
        "- 문자열에 대해 가능한 연산\n",
        "  - 문자 삽입, 삭제, 대체, 전치\n",
        "  - 해밍 거리(Hamming distance): 대체 연산만 허용\n",
        "  - 레벤슈타인 거리(Levenshtein distance): 삽입, 삭제, 대체 연산을 허용\n",
        "\n",
        "- 문서안의 오탈자를 고려한 유사도 측정이나 시리즈를 제목기준으로 찾기에 용이함"
      ]
    },
    {
      "cell_type": "markdown",
      "metadata": {
        "id": "JLhBH2oOdVuQ"
      },
      "source": [
        "**협업 필터링**\n",
        ": 다른 사용자의 구매 이력을 이용해서 영화를 추천하는 방법\n",
        "- 사용자 기반 협업 필터링: 사용자1이 영화1,2,4를 보았고 사용자2가 영화1,4를 보았을때, 사용자2에게 영화2를 추천\n",
        "- 상품 기반 협업 필터링: 영화1과 영화2에 사용자1과 사용자3이 좋은 별점을 줬을 경우, 사용자2도 좋은 별점을 줄거라고 생각\n",
        "\n"
      ]
    },
    {
      "cell_type": "markdown",
      "metadata": {
        "id": "p0fJkTlvlQQz"
      },
      "source": [
        "**평균 제곱근 편차(RMSE)**\n",
        ": 예측값과 실제값의 차이가 적을 수록, 값이 적을수록 좋은 예측\n",
        "\n",
        "RMSE는 예측값과 실제값 차이를 제곱한 값의 평균의 제곱근"
      ]
    },
    {
      "cell_type": "markdown",
      "metadata": {
        "id": "5rogcl8YvyFY"
      },
      "source": [
        "**특잇값 분해(Singular Value Decomposition: SVD)**\n",
        "\n",
        "특잇값 분해를 적용하려면 행렬의 모든 값을 알아야한다.\n",
        "\n",
        "- 절단 특잇값 분해(Truncated SVD): SVD는 계산에 시간이 많이 소요, 일반적으로 고윳값이 큰 고유벡터 k개 만으로 U와 V를 만듦\n",
        "  - U: 메인 벡터를 분해해서 얻어진 mxm크기의 직교행렬\n",
        "  - V: 고윳값 분해해서 얻어진 nxn크기의 직교행렬\n",
        "- 적은 수의 고유벡터를 사용하여 만들어진 U와 V의 곱은 원래의 행렬과 완전히 같지는 않은 근사 행렬\n",
        "- 차원 축소에 사용된다\n",
        "\n"
      ]
    },
    {
      "cell_type": "code",
      "metadata": {
        "id": "p3ee0sZ_QzzQ"
      },
      "source": [
        ""
      ],
      "execution_count": null,
      "outputs": []
    }
  ]
}